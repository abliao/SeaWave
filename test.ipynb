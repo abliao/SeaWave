{
 "cells": [
  {
   "metadata": {},
   "cell_type": "code",
   "id": "9c22921bb1ca2155",
   "source": [
    "import os\n",
    "path = '/data2/liangxiwen/zkd/datasets/dataGen/DATA/1_objs_11'\n",
    "files = os.listdir(path)"
   ],
   "outputs": []
  },
  {
   "metadata": {},
   "cell_type": "code",
   "id": "initial_id",
   "source": "len(files)",
   "outputs": []
  },
  {
   "metadata": {
    "ExecuteTime": {
     "end_time": "2024-02-15T04:31:43.041266Z",
     "start_time": "2024-02-15T04:31:33.892963Z"
    }
   },
   "cell_type": "code",
   "id": "2872839182ac2dfc",
   "source": [
    "import pickle\n",
    "locs = []\n",
    "for file_name in files:\n",
    "        # 构造完整的文件路径\n",
    "        file_path = os.path.join(path, file_name)\n",
    "        with open(file_path,'rb') as f:\n",
    "            data=pickle.load(f)\n",
    "            loc = data['objList'][0][1:3]\n",
    "            locs.append(loc)\n",
    "            "
   ],
   "outputs": [
    {
     "ename": "UnpicklingError",
     "evalue": "invalid load key, '{'.",
     "output_type": "error",
     "traceback": [
      "\u001B[0;31m---------------------------------------------------------------------------\u001B[0m",
      "\u001B[0;31mUnpicklingError\u001B[0m                           Traceback (most recent call last)",
      "Cell \u001B[0;32mIn[6], line 7\u001B[0m\n\u001B[1;32m      5\u001B[0m file_path \u001B[38;5;241m=\u001B[39m os\u001B[38;5;241m.\u001B[39mpath\u001B[38;5;241m.\u001B[39mjoin(path, file_name)\n\u001B[1;32m      6\u001B[0m \u001B[38;5;28;01mwith\u001B[39;00m \u001B[38;5;28mopen\u001B[39m(file_path,\u001B[38;5;124m'\u001B[39m\u001B[38;5;124mrb\u001B[39m\u001B[38;5;124m'\u001B[39m) \u001B[38;5;28;01mas\u001B[39;00m f:\n\u001B[0;32m----> 7\u001B[0m     data\u001B[38;5;241m=\u001B[39m\u001B[43mpickle\u001B[49m\u001B[38;5;241;43m.\u001B[39;49m\u001B[43mload\u001B[49m\u001B[43m(\u001B[49m\u001B[43mf\u001B[49m\u001B[43m)\u001B[49m\n\u001B[1;32m      8\u001B[0m     loc \u001B[38;5;241m=\u001B[39m data[\u001B[38;5;124m'\u001B[39m\u001B[38;5;124mobjList\u001B[39m\u001B[38;5;124m'\u001B[39m][\u001B[38;5;241m0\u001B[39m][\u001B[38;5;241m1\u001B[39m:\u001B[38;5;241m3\u001B[39m]\n\u001B[1;32m      9\u001B[0m     locs\u001B[38;5;241m.\u001B[39mappend(loc)\n",
      "\u001B[0;31mUnpicklingError\u001B[0m: invalid load key, '{'."
     ]
    }
   ],
   "execution_count": 6
  },
  {
   "metadata": {},
   "cell_type": "code",
   "outputs": [],
   "id": "a2da915a827d4989",
   "source": "print(len("
  }
 ],
 "metadata": {
  "kernelspec": {
   "display_name": "Python 3",
   "language": "python",
   "name": "python3"
  },
  "language_info": {
   "codemirror_mode": {
    "name": "ipython",
    "version": 2
   },
   "file_extension": ".py",
   "mimetype": "text/x-python",
   "name": "python",
   "nbconvert_exporter": "python",
   "pygments_lexer": "ipython2",
   "version": "2.7.6"
  }
 },
 "nbformat": 4,
 "nbformat_minor": 5
}
