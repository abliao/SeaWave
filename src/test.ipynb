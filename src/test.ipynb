{
 "cells": [
  {
   "cell_type": "code",
   "execution_count": 1,
   "metadata": {},
   "outputs": [],
   "source": [
    "import sys\n",
    "import time\n",
    "from Env.simUtils import *\n",
    "\n",
    "import grpc\n",
    "\n",
    "host = '127.0.0.1:30001'\n",
    "scene_num = 1\n",
    "map_id = 2\n",
    "server = SimServer(host,scene_num = scene_num, map_id = map_id)\n",
    "sim=SimAction(host,scene_id=0)"
   ]
  },
  {
   "cell_type": "code",
   "execution_count": 7,
   "metadata": {},
   "outputs": [],
   "source": [
    "sim.addDesk(1)"
   ]
  },
  {
   "cell_type": "code",
   "execution_count": 9,
   "metadata": {},
   "outputs": [],
   "source": [
    "scene=sim.removeObjects([1,2])"
   ]
  },
  {
   "cell_type": "code",
   "execution_count": 14,
   "metadata": {},
   "outputs": [],
   "source": [
    "sim.initState()"
   ]
  },
  {
   "cell_type": "code",
   "execution_count": 10,
   "metadata": {},
   "outputs": [
    {
     "data": {
      "text/plain": [
       "[[23, -36.611615022650334, -6.516443952108732, 99, 0, 0, 0, 1, 1, 0.1],\n",
       " [12, -45.727392584337984, -19.07782631613668, 99, 0, 0, 0, 0.9, 0.9, 0.9]]"
      ]
     },
     "execution_count": 10,
     "metadata": {},
     "output_type": "execute_result"
    }
   ],
   "source": [
    "sim.genObjs(n=2,ids=[23,12],h=sim.desk_height,handSide='Right')"
   ]
  },
  {
   "cell_type": "code",
   "execution_count": 8,
   "metadata": {},
   "outputs": [],
   "source": [
    "handSide='Right'\n",
    "objs=[]\n",
    "ids=[23,12]\n",
    "objs_loc = generate_points_in_square(2,sim.target_range[handSide],sim.obj_range)\n",
    "# assert len(objs_loc)==n, 'generated obj number less than needed'\n",
    "for id,loc in zip(ids,objs_loc):\n",
    "    objs.append([id,loc[0],loc[1],sim.desk_height+1,0,0,0])\n",
    "objs[0]+=[1,1,1]\n",
    "scene=sim.addObjects(objs,location='relatively')"
   ]
  },
  {
   "cell_type": "code",
   "execution_count": 7,
   "metadata": {},
   "outputs": [
    {
     "data": {
      "text/plain": [
       "[None,\n",
       " ([79.93091583251953, -6.516443729400635, 107.5], 9.5),\n",
       " ([70.81513977050781, -19.07782554626465, 104.76000213623047],\n",
       "  6.760002136230469)]"
      ]
     },
     "execution_count": 7,
     "metadata": {},
     "output_type": "execute_result"
    }
   ],
   "source": [
    "sim.registry_objs"
   ]
  },
  {
   "cell_type": "code",
   "execution_count": null,
   "metadata": {},
   "outputs": [],
   "source": [
    "for action in sim.graspTargetObj(1,handSide=handSide):\n",
    "    print(action)"
   ]
  },
  {
   "cell_type": "code",
   "execution_count": 17,
   "metadata": {},
   "outputs": [
    {
     "data": {
      "text/plain": [
       "98"
      ]
     },
     "execution_count": 17,
     "metadata": {},
     "output_type": "execute_result"
    }
   ],
   "source": [
    "sim.desk_height"
   ]
  },
  {
   "cell_type": "code",
   "execution_count": 27,
   "metadata": {},
   "outputs": [
    {
     "data": {
      "text/plain": [
       "[[21, -35.515519503881606, 0.20993370291152758, 91, 0, 0, 0, 1, 1, 1]]"
      ]
     },
     "execution_count": 27,
     "metadata": {},
     "output_type": "execute_result"
    }
   ],
   "source": [
    "sim.addDesk(0,h=98)\n",
    "sim.genObjs(n=1,ids=21)"
   ]
  },
  {
   "cell_type": "code",
   "execution_count": 10,
   "metadata": {},
   "outputs": [
    {
     "data": {
      "text/plain": [
       "[[0.01542260420424665,\n",
       "  -0.21394757358365274,\n",
       "  -0.07845196120893669,\n",
       "  -0.973567598484922],\n",
       " [-0.016763314911993125,\n",
       "  0.05804673052406484,\n",
       "  -0.0035690033948650437,\n",
       "  0.9981667348511448],\n",
       " [88.9417724609375, 20.199615478515625, 131.44737243652344],\n",
       " [91.9306640625, -12.647750854492188, 102.03794860839844],\n",
       " [78.608642578125, 18.698989868164062, 139.7353973388672],\n",
       " [76.24990844726562, 18.548248291015625, 140.8222198486328],\n",
       " [73.8843994140625, 18.628341674804688, 141.8950958251953],\n",
       " [77.38320922851562, 18.708892822265625, 138.31126403808594],\n",
       " [75.02487182617188, 18.568374633789062, 139.39759826660156],\n",
       " [72.6583251953125, 18.668853759765625, 140.4691162109375],\n",
       " [76.90609741210938, 18.383453369140625, 134.1462860107422],\n",
       " [74.54766845703125, 18.244125366210938, 135.23170471191406],\n",
       " [72.18133544921875, 18.342666625976562, 136.3046112060547],\n",
       " [77.386474609375, 18.513916015625, 136.34097290039062],\n",
       " [75.02798461914062, 18.374160766601562, 137.4263458251953],\n",
       " [72.66162109375, 18.47381591796875, 138.49879455566406],\n",
       " [81.7989501953125, 14.5557861328125, 139.3759765625],\n",
       " [80.79071044921875, 12.806549072265625, 141.01461791992188],\n",
       " [79.39938354492188, -12.6295166015625, 106.40315246582031],\n",
       " [76.82830810546875, -12.862655639648438, 106.71137237548828],\n",
       " [74.2928466796875, -13.34661865234375, 107.023681640625],\n",
       " [78.72665405273438, -12.870040893554688, 104.9773178100586],\n",
       " [76.15554809570312, -13.1043701171875, 105.28531646728516],\n",
       " [73.62274169921875, -13.599517822265625, 105.60017395019531],\n",
       " [79.52297973632812, -12.759323120117188, 100.8223648071289],\n",
       " [76.95074462890625, -12.987823486328125, 101.12816619873047],\n",
       " [74.41787719726562, -13.484054565429688, 101.44297790527344],\n",
       " [79.30990600585938, -12.73760986328125, 103.06053161621094],\n",
       " [76.7401123046875, -12.976898193359375, 103.37091827392578],\n",
       " [74.2061767578125, -13.468338012695312, 103.68339538574219],\n",
       " [81.75155639648438, -7.285797119140625, 107.36893463134766],\n",
       " [80.0709228515625, -5.558349609375, 108.35057067871094]]"
      ]
     },
     "execution_count": 10,
     "metadata": {},
     "output_type": "execute_result"
    }
   ],
   "source": [
    "sim.getSensorsData('All')"
   ]
  },
  {
   "cell_type": "code",
   "execution_count": 3,
   "metadata": {},
   "outputs": [
    {
     "name": "stdout",
     "output_type": "stream",
     "text": [
      "success\n",
      "success rate:1/1\n"
     ]
    }
   ],
   "source": [
    "success_num = 0\n",
    "np.random.seed(42)\n",
    "can_list = sim.can_list\n",
    "handSide = 'Right'\n",
    "for _,id in enumerate(can_list):\n",
    "    sim.reset()\n",
    "    sim.addDesk(0,h=98)\n",
    "    n_objs = 2\n",
    "    ids = random.sample(list(can_list),n_objs)\n",
    "    sim.genObjs(n=n_objs,ids=[id,12],h=sim.desk_height,handSide=handSide)\n",
    "    obj_id = 1\n",
    "    for action in sim.knockOver(obj_id,handSide=handSide):\n",
    "        pass\n",
    "    time.sleep(0.5)\n",
    "    if sim.checkKnockOver(obj_id):\n",
    "        print('success')\n",
    "        success_num+=1\n",
    "    print(f'success rate:{success_num}/{_+1}')\n",
    "    \n",
    "    # obj1 = sim.getObjsInfo()[1]['location']\n",
    "    # obj2 = sim.getObjsInfo()[2]['location']\n",
    "    # if handSide=='Right':\n",
    "    #     if obj1[1]<obj2[1]:\n",
    "    #         obj1_id,obj2_id = 1,2\n",
    "    #     else:\n",
    "    #         obj1_id,obj2_id = 2,1\n",
    "    # else:\n",
    "    #     if obj1[1]>obj2[1]:\n",
    "    #         obj1_id,obj2_id = 1,2\n",
    "    #     else:\n",
    "    #         obj1_id,obj2_id = 2,1\n"
   ]
  },
  {
   "cell_type": "code",
   "execution_count": 3,
   "metadata": {},
   "outputs": [
    {
     "data": {
      "text/plain": [
       "array([12, 13, 14, 15, 16, 17, 18, 19, 20, 21, 23, 24, 25], dtype=int64)"
      ]
     },
     "execution_count": 3,
     "metadata": {},
     "output_type": "execute_result"
    }
   ],
   "source": [
    "can_list"
   ]
  },
  {
   "cell_type": "code",
   "execution_count": 13,
   "metadata": {},
   "outputs": [],
   "source": [
    "sim.addDesk(0,98)"
   ]
  },
  {
   "cell_type": "code",
   "execution_count": 14,
   "metadata": {},
   "outputs": [],
   "source": [
    "sim.initState()"
   ]
  },
  {
   "cell_type": "code",
   "execution_count": 176,
   "metadata": {},
   "outputs": [],
   "source": [
    "scene=sim.removeObjects([1])"
   ]
  },
  {
   "cell_type": "code",
   "execution_count": 15,
   "metadata": {},
   "outputs": [],
   "source": [
    "handSide='Left'\n",
    "objs=[]\n",
    "ids=[22]\n",
    "objs_loc = generate_points_in_square(1,sim.target_range[handSide],sim.obj_range)\n",
    "# assert len(objs_loc)==n, 'generated obj number less than needed'\n",
    "for id,loc in zip(ids,objs_loc):\n",
    "    objs.append([id,loc[0]-15,loc[1],sim.desk_height+1,0,0,-90,0.2,0.2,0.4])\n",
    "scene=sim.addObjects(objs,location='relatively')"
   ]
  },
  {
   "cell_type": "code",
   "execution_count": 178,
   "metadata": {},
   "outputs": [],
   "source": [
    "from Env import GrabSim_pb2, GrabSim_pb2_grpc"
   ]
  },
  {
   "cell_type": "code",
   "execution_count": 18,
   "metadata": {},
   "outputs": [
    {
     "data": {
      "text/plain": []
     },
     "execution_count": 18,
     "metadata": {},
     "output_type": "execute_result"
    }
   ],
   "source": [
    "sim.sim_client.SetObjectJointAngle(GrabSim_pb2.ObjectJointCtrl(scene=0,objectId=1,jointName=\"joint_door\",angle=-60))"
   ]
  },
  {
   "cell_type": "code",
   "execution_count": 19,
   "metadata": {},
   "outputs": [],
   "source": [
    "diagonal=sim.getObservation().objects[1].boxes[1].diagonals[1]"
   ]
  },
  {
   "cell_type": "code",
   "execution_count": 20,
   "metadata": {},
   "outputs": [],
   "source": [
    "a,b=[diagonal.X0,diagonal.Y0,diagonal.Z0],[diagonal.X1,diagonal.Y1,diagonal.Z1]"
   ]
  },
  {
   "cell_type": "code",
   "execution_count": 21,
   "metadata": {},
   "outputs": [],
   "source": [
    "a=np.array(a)\n",
    "b=np.array(b)\n",
    "a=(a+b)/2\n",
    "a[1]+=15\n",
    "a[0]+=23"
   ]
  },
  {
   "cell_type": "code",
   "execution_count": 22,
   "metadata": {},
   "outputs": [],
   "source": [
    "sim.moveHand(*a,method='absolute',handSide='Left',keep_rpy=(0,0,0))"
   ]
  },
  {
   "cell_type": "code",
   "execution_count": 23,
   "metadata": {},
   "outputs": [],
   "source": [
    "sim.moveHand(0,-20,4,handSide='Left',gap=0.1)"
   ]
  },
  {
   "cell_type": "code",
   "execution_count": null,
   "metadata": {},
   "outputs": [],
   "source": [
    "GrabSim_pb2.ObjectJointCtrl"
   ]
  },
  {
   "cell_type": "code",
   "execution_count": 10,
   "metadata": {},
   "outputs": [
    {
     "data": {
      "text/plain": [
       "[[22, -47.65972039336345, -16.100136991594933, 101, 0, 0, 0, 1, 1, 1]]"
      ]
     },
     "execution_count": 10,
     "metadata": {},
     "output_type": "execute_result"
    }
   ],
   "source": [
    "sim.genObjs(n=1,ids=22,h=sim.desk_height)"
   ]
  },
  {
   "cell_type": "code",
   "execution_count": 4,
   "metadata": {},
   "outputs": [
    {
     "name": "stdout",
     "output_type": "stream",
     "text": [
      "success\n",
      "success rate:1/1\n"
     ]
    },
    {
     "ename": "KeyboardInterrupt",
     "evalue": "",
     "output_type": "error",
     "traceback": [
      "\u001b[1;31m---------------------------------------------------------------------------\u001b[0m",
      "\u001b[1;31mKeyboardInterrupt\u001b[0m                         Traceback (most recent call last)",
      "Cell \u001b[1;32mIn[4], line 6\u001b[0m\n\u001b[0;32m      4\u001b[0m handSide \u001b[38;5;241m=\u001b[39m \u001b[38;5;124m'\u001b[39m\u001b[38;5;124mRight\u001b[39m\u001b[38;5;124m'\u001b[39m\n\u001b[0;32m      5\u001b[0m \u001b[38;5;28;01mfor\u001b[39;00m _ \u001b[38;5;129;01min\u001b[39;00m \u001b[38;5;28mrange\u001b[39m(\u001b[38;5;241m5\u001b[39m):\n\u001b[1;32m----> 6\u001b[0m     \u001b[43msim\u001b[49m\u001b[38;5;241;43m.\u001b[39;49m\u001b[43mreset\u001b[49m\u001b[43m(\u001b[49m\u001b[43m)\u001b[49m\n\u001b[0;32m      7\u001b[0m     sim\u001b[38;5;241m.\u001b[39maddDesk(\u001b[38;5;241m0\u001b[39m,h\u001b[38;5;241m=\u001b[39m\u001b[38;5;241m98\u001b[39m)\n\u001b[0;32m      8\u001b[0m     n_objs \u001b[38;5;241m=\u001b[39m \u001b[38;5;241m1\u001b[39m \n",
      "File \u001b[1;32md:\\Deon\\Project\\robotic_manipulation\\SeaWave\\src\\Env\\simUtils.py:612\u001b[0m, in \u001b[0;36mSim.reset\u001b[1;34m(self, deskID, h, n_objs, obj_id)\u001b[0m\n\u001b[0;32m    609\u001b[0m time\u001b[38;5;241m.\u001b[39msleep(\u001b[38;5;241m0.5\u001b[39m)\n\u001b[0;32m    610\u001b[0m sensor_data\u001b[38;5;241m=\u001b[39m\u001b[38;5;28mself\u001b[39m\u001b[38;5;241m.\u001b[39mgetSensorsData(\u001b[38;5;124m'\u001b[39m\u001b[38;5;124mAll\u001b[39m\u001b[38;5;124m'\u001b[39m)\n\u001b[1;32m--> 612\u001b[0m \u001b[38;5;28;43mself\u001b[39;49m\u001b[38;5;241;43m.\u001b[39;49m\u001b[43minitState\u001b[49m\u001b[43m(\u001b[49m\u001b[43m)\u001b[49m\n\u001b[0;32m    613\u001b[0m \u001b[38;5;28mself\u001b[39m\u001b[38;5;241m.\u001b[39mbow_head()\n\u001b[0;32m    614\u001b[0m time\u001b[38;5;241m.\u001b[39msleep(\u001b[38;5;241m1\u001b[39m)\n",
      "File \u001b[1;32md:\\Deon\\Project\\robotic_manipulation\\SeaWave\\src\\Env\\simUtils.py:602\u001b[0m, in \u001b[0;36mSim.initState\u001b[1;34m(self)\u001b[0m\n\u001b[0;32m    599\u001b[0m \u001b[38;5;28mself\u001b[39m\u001b[38;5;241m.\u001b[39mEnableEndPointCtrl(\u001b[38;5;28;01mTrue\u001b[39;00m)\n\u001b[0;32m    601\u001b[0m \u001b[38;5;28mself\u001b[39m\u001b[38;5;241m.\u001b[39mgrasp_state\u001b[38;5;241m=\u001b[39m{\u001b[38;5;124m'\u001b[39m\u001b[38;5;124mLeft\u001b[39m\u001b[38;5;124m'\u001b[39m:\u001b[38;5;241m0\u001b[39m,\u001b[38;5;124m'\u001b[39m\u001b[38;5;124mRight\u001b[39m\u001b[38;5;124m'\u001b[39m:\u001b[38;5;241m0\u001b[39m}\n\u001b[1;32m--> 602\u001b[0m \u001b[38;5;28;43mself\u001b[39;49m\u001b[38;5;241;43m.\u001b[39;49m\u001b[43mrelease\u001b[49m\u001b[43m(\u001b[49m\u001b[43mhandSide\u001b[49m\u001b[38;5;241;43m=\u001b[39;49m\u001b[38;5;124;43m'\u001b[39;49m\u001b[38;5;124;43mLeft\u001b[39;49m\u001b[38;5;124;43m'\u001b[39;49m\u001b[43m)\u001b[49m\n\u001b[0;32m    603\u001b[0m \u001b[38;5;28mself\u001b[39m\u001b[38;5;241m.\u001b[39mrelease(handSide\u001b[38;5;241m=\u001b[39m\u001b[38;5;124m'\u001b[39m\u001b[38;5;124mRight\u001b[39m\u001b[38;5;124m'\u001b[39m)\n",
      "File \u001b[1;32md:\\Deon\\Project\\robotic_manipulation\\SeaWave\\src\\Env\\simUtils.py:455\u001b[0m, in \u001b[0;36mSim.release\u001b[1;34m(self, angle, handSide)\u001b[0m\n\u001b[0;32m    454\u001b[0m \u001b[38;5;28;01mdef\u001b[39;00m \u001b[38;5;21mrelease\u001b[39m(\u001b[38;5;28mself\u001b[39m,angle\u001b[38;5;241m=\u001b[39m\u001b[38;5;28;01mNone\u001b[39;00m,handSide\u001b[38;5;241m=\u001b[39m\u001b[38;5;124m'\u001b[39m\u001b[38;5;124mRight\u001b[39m\u001b[38;5;124m'\u001b[39m):\n\u001b[1;32m--> 455\u001b[0m     \u001b[38;5;28;43mself\u001b[39;49m\u001b[38;5;241;43m.\u001b[39;49m\u001b[43mgrasp\u001b[49m\u001b[43m(\u001b[49m\u001b[38;5;28;43mtype\u001b[39;49m\u001b[38;5;241;43m=\u001b[39;49m\u001b[38;5;124;43m'\u001b[39;49m\u001b[38;5;124;43mrelease\u001b[39;49m\u001b[38;5;124;43m'\u001b[39;49m\u001b[43m,\u001b[49m\u001b[43mangle\u001b[49m\u001b[38;5;241;43m=\u001b[39;49m\u001b[43mangle\u001b[49m\u001b[43m,\u001b[49m\u001b[43mhandSide\u001b[49m\u001b[38;5;241;43m=\u001b[39;49m\u001b[43mhandSide\u001b[49m\u001b[43m)\u001b[49m\n",
      "File \u001b[1;32md:\\Deon\\Project\\robotic_manipulation\\SeaWave\\src\\Env\\simUtils.py:447\u001b[0m, in \u001b[0;36mSim.grasp\u001b[1;34m(self, type, angle, handSide)\u001b[0m\n\u001b[0;32m    445\u001b[0m     values[hand_ids[\u001b[38;5;241m1\u001b[39m]]\u001b[38;5;241m=\u001b[39mangle[\u001b[38;5;241m1\u001b[39m]\n\u001b[0;32m    446\u001b[0m     \u001b[38;5;28mself\u001b[39m\u001b[38;5;241m.\u001b[39mchangeJoints(values,method\u001b[38;5;241m=\u001b[39m\u001b[38;5;124m'\u001b[39m\u001b[38;5;124mnew\u001b[39m\u001b[38;5;124m'\u001b[39m)\n\u001b[1;32m--> 447\u001b[0m     \u001b[43mtime\u001b[49m\u001b[38;5;241;43m.\u001b[39;49m\u001b[43msleep\u001b[49m\u001b[43m(\u001b[49m\u001b[38;5;241;43m0.2\u001b[39;49m\u001b[43m)\u001b[49m\n\u001b[0;32m    449\u001b[0m \u001b[38;5;28mself\u001b[39m\u001b[38;5;241m.\u001b[39mgrasp_state[handSide]\u001b[38;5;241m=\u001b[39m\u001b[38;5;241m1\u001b[39m \u001b[38;5;28;01mif\u001b[39;00m \u001b[38;5;28mtype\u001b[39m\u001b[38;5;241m==\u001b[39m\u001b[38;5;124m'\u001b[39m\u001b[38;5;124mgrasp\u001b[39m\u001b[38;5;124m'\u001b[39m \u001b[38;5;28;01melse\u001b[39;00m \u001b[38;5;241m0\u001b[39m\n\u001b[0;32m    450\u001b[0m time\u001b[38;5;241m.\u001b[39msleep(\u001b[38;5;241m2\u001b[39m)\n",
      "\u001b[1;31mKeyboardInterrupt\u001b[0m: "
     ]
    }
   ],
   "source": [
    "success_num = 0\n",
    "np.random.seed(42)\n",
    "can_list = sim.can_list\n",
    "handSide = 'Right'\n",
    "for _ in range(5):\n",
    "    sim.reset()\n",
    "    sim.addDesk(0,h=98)\n",
    "    n_objs = 1 \n",
    "    ids = random.sample(can_list,n_objs)\n",
    "    sim.genObjs(n=n_objs,ids=ids,h=sim.desk_height,handSide=handSide)\n",
    "    obj_id = 1\n",
    "\n",
    "    for action in sim.pushLeft(obj_id,handSide=handSide):\n",
    "        pass\n",
    "    time.sleep(1)\n",
    "    if sim.checkPushLeft(obj_id):\n",
    "        print('success')\n",
    "        success_num+=1\n",
    "    print(f'success rate:{success_num}/{_+1}')\n",
    "    \n",
    "    # obj1 = sim.getObjsInfo()[1]['location']\n",
    "    # obj2 = sim.getObjsInfo()[2]['location']\n",
    "    # if handSide=='Right':\n",
    "    #     if obj1[1]<obj2[1]:\n",
    "    #         obj1_id,obj2_id = 1,2\n",
    "    #     else:\n",
    "    #         obj1_id,obj2_id = 2,1\n",
    "    # else:\n",
    "    #     if obj1[1]>obj2[1]:\n",
    "    #         obj1_id,obj2_id = 1,2\n",
    "    #     else:\n",
    "    #         obj1_id,obj2_id = 2,1\n"
   ]
  },
  {
   "cell_type": "code",
   "execution_count": 6,
   "metadata": {},
   "outputs": [
    {
     "data": {
      "text/plain": [
       "True"
      ]
     },
     "execution_count": 6,
     "metadata": {},
     "output_type": "execute_result"
    }
   ],
   "source": [
    "sim.checkKnockOver(obj_id)"
   ]
  },
  {
   "cell_type": "code",
   "execution_count": 5,
   "metadata": {},
   "outputs": [
    {
     "data": {
      "text/plain": [
       "True"
      ]
     },
     "execution_count": 5,
     "metadata": {},
     "output_type": "execute_result"
    }
   ],
   "source": [
    "obj_loc=np.array(sim.findObj(id=obj_id)['location'])\n",
    "sim.desk_height+sim.registry_objs[obj_id][1]/2>obj_loc[-1]\n"
   ]
  },
  {
   "cell_type": "code",
   "execution_count": 4,
   "metadata": {},
   "outputs": [
    {
     "data": {
      "text/plain": [
       "-2.81524658203125"
      ]
     },
     "execution_count": 4,
     "metadata": {},
     "output_type": "execute_result"
    }
   ],
   "source": [
    "initLoc = sim.registry_objs[obj_id][0]\n",
    "nowLoc = sim.getObjsInfo()[obj_id]['location']\n",
    "nowLoc[0]-initLoc[0]"
   ]
  },
  {
   "cell_type": "code",
   "execution_count": 5,
   "metadata": {},
   "outputs": [
    {
     "name": "stdout",
     "output_type": "stream",
     "text": [
      "success\n"
     ]
    }
   ],
   "source": [
    "if sim.checkMoveNear(obj1_id=obj1_id,obj2_id=obj2_id):\n",
    "    print('success')\n",
    "    success_num+=1"
   ]
  },
  {
   "cell_type": "code",
   "execution_count": 4,
   "metadata": {},
   "outputs": [
    {
     "data": {
      "text/plain": [
       "7.067946871786117"
      ]
     },
     "execution_count": 4,
     "metadata": {},
     "output_type": "execute_result"
    }
   ],
   "source": [
    "obj1_loc = np.array(sim.getObjsInfo()[obj1_id]['location'])\n",
    "obj2_loc = np.array(sim.getObjsInfo()[obj2_id]['location'])\n",
    "np.linalg.norm(obj2_loc-obj1_loc)"
   ]
  },
  {
   "cell_type": "code",
   "execution_count": 5,
   "metadata": {},
   "outputs": [
    {
     "data": {
      "text/plain": [
       "[None, None, None, 6.760002136230469]"
      ]
     },
     "execution_count": 5,
     "metadata": {},
     "output_type": "execute_result"
    }
   ],
   "source": [
    "sim.registry_objs"
   ]
  },
  {
   "cell_type": "code",
   "execution_count": 11,
   "metadata": {},
   "outputs": [
    {
     "name": "stdout",
     "output_type": "stream",
     "text": [
      "time_step: 38\n",
      "success\n",
      "success rate:1/1\n"
     ]
    }
   ],
   "source": [
    "success_num = 0\n",
    "np.random.seed(42)\n",
    "can_list = sim.can_list\n",
    "handSide = 'Right'\n",
    "for _ in range(1):\n",
    "    sim.reset()\n",
    "    sim.removeObjects()\n",
    "    sim.addDesk(0,h=98)\n",
    "    ids = random.choice(can_list)\n",
    "    sim.genObjs(n=1,ids=18,h=sim.desk_height,handSide=handSide)\n",
    "    method='absolute'\n",
    "    obj_id=1\n",
    "    gap=1.5\n",
    "    keep_rpy=(0,0,0)\n",
    "    time_step=0\n",
    "    if handSide=='Right':\n",
    "        target_oringin_loc=sim.getObjsInfo()[1]['location']\n",
    "        for action in sim.closeTargetObj(1,return_action=True):\n",
    "            time.sleep(0.1)\n",
    "            st=time.time()\n",
    "            mat = sim.getImage()\n",
    "            # print(action)\n",
    "            time_step+=1\n",
    "        sim.grasp()\n",
    "        for action in sim.moveHandReturnAction(0,0,10,gap=1):\n",
    "            mat = sim.getImage()\n",
    "            time.sleep(0.1)\n",
    "        target_now_loc=sim.getObjsInfo()[1]['location']\n",
    "        print('time_step:',time_step)\n",
    "        if target_now_loc[2]-target_oringin_loc[2]>5:\n",
    "            print('success')\n",
    "            success_num+=1\n",
    "        print(f'success rate:{success_num}/{_+1}')\n",
    "    elif handSide=='Left':\n",
    "        target_oringin_loc=sim.getObjsInfo()[1]['location']\n",
    "        obj_loc=np.array(sim.findObj(id=obj_id)['location'])\n",
    "        obj_loc[0]+=4\n",
    "        obj_loc[1]+=6\n",
    "        for i in range(100):  \n",
    "            time_step+=1\n",
    "            sensor = sim.getSensorsData(handSide='All',type='full')\n",
    "            middle = np.array(sensor[-24]['data'])\n",
    "            p = max(abs(obj_loc-middle))/gap if max(abs(obj_loc-middle))>gap else 1\n",
    "            vector = (obj_loc-middle)/p\n",
    "            if max(abs(obj_loc[:2]-middle[:2]))<1 and max(abs(obj_loc[2:]-middle[2:]))<2:\n",
    "                break\n",
    "            sim.moveHand(*vector,handSide=handSide,method='diff',gap=gap,keep_rpy=(0,0,0))\n",
    "        \n",
    "        obj_loc=np.array(sim.findObj(id=obj_id)['location'])\n",
    "        obj_loc[0]-=4\n",
    "        obj_loc[1]+=4\n",
    "        for i in range(100):\n",
    "            time_step+=1\n",
    "            sensor = sim.getSensorsData(handSide='All',type='full')\n",
    "            middle = np.array(sensor[-24]['data'])\n",
    "            p = max(abs(obj_loc-middle))/gap if max(abs(obj_loc-middle))>gap else 1\n",
    "            vector = (obj_loc-middle)/p\n",
    "            if max(abs(obj_loc[:2]-middle[:2]))<1 and max(abs(obj_loc[2:]-middle[2:]))<2:\n",
    "                break\n",
    "            sim.moveHand(*vector,handSide=handSide,method='diff',gap=gap,keep_rpy=(0,0,0))\n",
    "        sim.grasp(handSide=handSide)\n",
    "        sim.moveHand(0,0,10,handSide=handSide)\n",
    "        target_now_loc=sim.getObjsInfo()[1]['location']\n",
    "        print('time_step:',time_step)\n",
    "        if target_now_loc[2]-target_oringin_loc[2]>5:\n",
    "            print('success')\n"
   ]
  },
  {
   "cell_type": "code",
   "execution_count": null,
   "metadata": {},
   "outputs": [],
   "source": [
    "            success_num+=1\n",
    "        print(f'success rate:{success_num}/{_+1}')"
   ]
  },
  {
   "cell_type": "code",
   "execution_count": 12,
   "metadata": {},
   "outputs": [],
   "source": [
    "sim.moveHand(0,0,-8,handSide=handSide)"
   ]
  },
  {
   "cell_type": "code",
   "execution_count": 6,
   "metadata": {},
   "outputs": [],
   "source": [
    "sim.moveHand(5,0,0,handSide=handSide)"
   ]
  },
  {
   "cell_type": "code",
   "execution_count": 13,
   "metadata": {},
   "outputs": [],
   "source": [
    "sim.release(handSide=handSide)"
   ]
  },
  {
   "cell_type": "code",
   "execution_count": 3,
   "metadata": {},
   "outputs": [
    {
     "data": {
      "text/plain": [
       "array([ 9.81004047, 12.82505035, 27.38894463, 58.87218475, 17.03774452])"
      ]
     },
     "execution_count": 3,
     "metadata": {},
     "output_type": "execute_result"
    }
   ],
   "source": [
    "np.array(sim.getActuators())[[-4,-10,-9,-8,-7]]"
   ]
  },
  {
   "cell_type": "code",
   "execution_count": null,
   "metadata": {},
   "outputs": [
    {
     "name": "stdout",
     "output_type": "stream",
     "text": [
      "数据生成脚本启动\n",
      "Epoch: 0\n"
     ]
    },
    {
     "name": "stderr",
     "output_type": "stream",
     "text": [
      "  0%|          | 1/1000 [00:30<8:32:14, 30.76s/it]"
     ]
    },
    {
     "name": "stdout",
     "output_type": "stream",
     "text": [
      "Success have collected 1 datas\n"
     ]
    },
    {
     "name": "stderr",
     "output_type": "stream",
     "text": [
      "  0%|          | 2/1000 [01:02<8:40:38, 31.30s/it]"
     ]
    },
    {
     "name": "stdout",
     "output_type": "stream",
     "text": [
      "Success have collected 2 datas\n"
     ]
    },
    {
     "name": "stderr",
     "output_type": "stream",
     "text": [
      "  0%|          | 3/1000 [01:31<8:24:05, 30.34s/it]"
     ]
    },
    {
     "name": "stdout",
     "output_type": "stream",
     "text": [
      "Success have collected 3 datas\n"
     ]
    },
    {
     "name": "stderr",
     "output_type": "stream",
     "text": [
      "  0%|          | 4/1000 [02:03<8:34:56, 31.02s/it]"
     ]
    },
    {
     "name": "stdout",
     "output_type": "stream",
     "text": [
      "Success have collected 4 datas\n"
     ]
    },
    {
     "name": "stderr",
     "output_type": "stream",
     "text": [
      "  0%|          | 5/1000 [02:34<8:31:35, 30.85s/it]"
     ]
    },
    {
     "name": "stdout",
     "output_type": "stream",
     "text": [
      "fail data: 4 1 14 [[14, -44.76185638081009, -1.8511080282440169, 99, 0, 0, 0, 0.9, 0.9, 0.9]]\n"
     ]
    },
    {
     "name": "stderr",
     "output_type": "stream",
     "text": [
      "  1%|          | 6/1000 [03:43<12:09:07, 44.01s/it]"
     ]
    },
    {
     "name": "stdout",
     "output_type": "stream",
     "text": [
      "fail data: 5 1 14 [[14, -40.369525307685684, -17.896500875123778, 99, 0, 0, 0, 0.9, 0.9, 0.9]]\n"
     ]
    },
    {
     "name": "stderr",
     "output_type": "stream",
     "text": [
      "  1%|          | 7/1000 [04:16<11:04:46, 40.17s/it]"
     ]
    },
    {
     "name": "stdout",
     "output_type": "stream",
     "text": [
      "Success have collected 5 datas\n"
     ]
    },
    {
     "name": "stderr",
     "output_type": "stream",
     "text": [
      "  1%|          | 8/1000 [04:47<10:19:40, 37.48s/it]"
     ]
    },
    {
     "name": "stdout",
     "output_type": "stream",
     "text": [
      "Success have collected 6 datas\n"
     ]
    },
    {
     "name": "stderr",
     "output_type": "stream",
     "text": [
      "  1%|          | 9/1000 [05:19<9:50:45, 35.77s/it] "
     ]
    },
    {
     "name": "stdout",
     "output_type": "stream",
     "text": [
      "Success have collected 7 datas\n"
     ]
    },
    {
     "name": "stderr",
     "output_type": "stream",
     "text": [
      "  1%|          | 10/1000 [05:50<9:26:23, 34.33s/it]"
     ]
    },
    {
     "name": "stdout",
     "output_type": "stream",
     "text": [
      "Success have collected 8 datas\n"
     ]
    },
    {
     "name": "stderr",
     "output_type": "stream",
     "text": [
      "  1%|          | 11/1000 [06:21<9:09:25, 33.33s/it]"
     ]
    },
    {
     "name": "stdout",
     "output_type": "stream",
     "text": [
      "Success have collected 9 datas\n"
     ]
    },
    {
     "name": "stderr",
     "output_type": "stream",
     "text": [
      "  1%|          | 12/1000 [06:52<8:52:39, 32.35s/it]"
     ]
    },
    {
     "name": "stdout",
     "output_type": "stream",
     "text": [
      "Success have collected 10 datas\n"
     ]
    },
    {
     "name": "stderr",
     "output_type": "stream",
     "text": [
      "  1%|▏         | 13/1000 [07:23<8:45:41, 31.96s/it]"
     ]
    },
    {
     "name": "stdout",
     "output_type": "stream",
     "text": [
      "Success have collected 11 datas\n"
     ]
    },
    {
     "name": "stderr",
     "output_type": "stream",
     "text": [
      "  1%|▏         | 14/1000 [07:52<8:33:56, 31.27s/it]"
     ]
    },
    {
     "name": "stdout",
     "output_type": "stream",
     "text": [
      "Success have collected 12 datas\n"
     ]
    },
    {
     "name": "stderr",
     "output_type": "stream",
     "text": [
      "  2%|▏         | 15/1000 [08:23<8:29:46, 31.05s/it]"
     ]
    },
    {
     "name": "stdout",
     "output_type": "stream",
     "text": [
      "Success have collected 13 datas\n"
     ]
    },
    {
     "name": "stderr",
     "output_type": "stream",
     "text": [
      "  2%|▏         | 16/1000 [08:54<8:28:11, 30.99s/it]"
     ]
    },
    {
     "name": "stdout",
     "output_type": "stream",
     "text": [
      "Success have collected 14 datas\n"
     ]
    },
    {
     "name": "stderr",
     "output_type": "stream",
     "text": [
      "  2%|▏         | 17/1000 [09:24<8:23:14, 30.72s/it]"
     ]
    },
    {
     "name": "stdout",
     "output_type": "stream",
     "text": [
      "Success have collected 15 datas\n"
     ]
    },
    {
     "name": "stderr",
     "output_type": "stream",
     "text": [
      "  2%|▏         | 18/1000 [09:56<8:29:41, 31.14s/it]"
     ]
    },
    {
     "name": "stdout",
     "output_type": "stream",
     "text": [
      "Success have collected 16 datas\n"
     ]
    },
    {
     "name": "stderr",
     "output_type": "stream",
     "text": [
      "  2%|▏         | 19/1000 [10:27<8:27:17, 31.03s/it]"
     ]
    },
    {
     "name": "stdout",
     "output_type": "stream",
     "text": [
      "Success have collected 17 datas\n"
     ]
    },
    {
     "name": "stderr",
     "output_type": "stream",
     "text": [
      "  2%|▏         | 20/1000 [10:58<8:26:23, 31.00s/it]"
     ]
    },
    {
     "name": "stdout",
     "output_type": "stream",
     "text": [
      "Success have collected 18 datas\n"
     ]
    },
    {
     "name": "stderr",
     "output_type": "stream",
     "text": [
      "  2%|▏         | 21/1000 [11:29<8:26:52, 31.06s/it]"
     ]
    },
    {
     "name": "stdout",
     "output_type": "stream",
     "text": [
      "Success have collected 19 datas\n"
     ]
    },
    {
     "name": "stderr",
     "output_type": "stream",
     "text": [
      "  2%|▏         | 22/1000 [12:01<8:30:52, 31.34s/it]"
     ]
    },
    {
     "name": "stdout",
     "output_type": "stream",
     "text": [
      "Success have collected 20 datas\n"
     ]
    },
    {
     "name": "stderr",
     "output_type": "stream",
     "text": [
      "  2%|▏         | 23/1000 [12:32<8:29:46, 31.31s/it]"
     ]
    },
    {
     "name": "stdout",
     "output_type": "stream",
     "text": [
      "Success have collected 21 datas\n"
     ]
    },
    {
     "name": "stderr",
     "output_type": "stream",
     "text": [
      "  2%|▏         | 24/1000 [13:03<8:29:36, 31.33s/it]"
     ]
    },
    {
     "name": "stdout",
     "output_type": "stream",
     "text": [
      "Success have collected 22 datas\n"
     ]
    },
    {
     "name": "stderr",
     "output_type": "stream",
     "text": [
      "  2%|▎         | 25/1000 [13:34<8:23:38, 30.99s/it]"
     ]
    },
    {
     "name": "stdout",
     "output_type": "stream",
     "text": [
      "Success have collected 23 datas\n"
     ]
    },
    {
     "name": "stderr",
     "output_type": "stream",
     "text": [
      "  3%|▎         | 26/1000 [14:06<8:30:56, 31.47s/it]"
     ]
    },
    {
     "name": "stdout",
     "output_type": "stream",
     "text": [
      "Success have collected 24 datas\n"
     ]
    },
    {
     "name": "stderr",
     "output_type": "stream",
     "text": [
      "  3%|▎         | 26/1000 [14:26<9:00:55, 33.32s/it]\n"
     ]
    },
    {
     "ename": "KeyboardInterrupt",
     "evalue": "",
     "output_type": "error",
     "traceback": [
      "\u001b[1;31m---------------------------------------------------------------------------\u001b[0m",
      "\u001b[1;31mKeyboardInterrupt\u001b[0m                         Traceback (most recent call last)",
      "Cell \u001b[1;32mIn[17], line 97\u001b[0m\n\u001b[0;32m     95\u001b[0m each_frame[\u001b[38;5;124m'\u001b[39m\u001b[38;5;124maction\u001b[39m\u001b[38;5;124m'\u001b[39m] \u001b[38;5;241m=\u001b[39m (\u001b[38;5;241m*\u001b[39maction, \u001b[38;5;241m0\u001b[39m)\n\u001b[0;32m     96\u001b[0m time\u001b[38;5;241m.\u001b[39msleep(\u001b[38;5;241m0.05\u001b[39m)\n\u001b[1;32m---> 97\u001b[0m last_img \u001b[38;5;241m=\u001b[39m Resize(\u001b[43msim\u001b[49m\u001b[38;5;241;43m.\u001b[39;49m\u001b[43mgetImage\u001b[49m\u001b[43m(\u001b[49m\u001b[43m)\u001b[49m)\n\u001b[0;32m     98\u001b[0m last_state \u001b[38;5;241m=\u001b[39m sim\u001b[38;5;241m.\u001b[39mgetState()\n\u001b[0;32m     99\u001b[0m each_frame[\u001b[38;5;124m'\u001b[39m\u001b[38;5;124mafter_state\u001b[39m\u001b[38;5;124m'\u001b[39m] \u001b[38;5;241m=\u001b[39m last_state\n",
      "File \u001b[1;32md:\\Deon\\Project\\robotic_manipulation\\SeaWave\\src\\..\\src\\Env\\simUtils.py:235\u001b[0m, in \u001b[0;36mSim.getImage\u001b[1;34m(self, caremras)\u001b[0m\n\u001b[0;32m    232\u001b[0m \u001b[38;5;28;01mdef\u001b[39;00m \u001b[38;5;21mgetImage\u001b[39m(\u001b[38;5;28mself\u001b[39m,caremras\u001b[38;5;241m=\u001b[39m[GrabSim_pb2\u001b[38;5;241m.\u001b[39mCameraName\u001b[38;5;241m.\u001b[39mHead_Color]):\n\u001b[0;32m    233\u001b[0m     \u001b[38;5;66;03m# 获得图像\u001b[39;00m\n\u001b[0;32m    234\u001b[0m     action \u001b[38;5;241m=\u001b[39m GrabSim_pb2\u001b[38;5;241m.\u001b[39mCameraList(cameras\u001b[38;5;241m=\u001b[39mcaremras)\n\u001b[1;32m--> 235\u001b[0m     im \u001b[38;5;241m=\u001b[39m \u001b[38;5;28;43mself\u001b[39;49m\u001b[38;5;241;43m.\u001b[39;49m\u001b[43msim_client\u001b[49m\u001b[38;5;241;43m.\u001b[39;49m\u001b[43mCapture\u001b[49m\u001b[43m(\u001b[49m\u001b[43maction\u001b[49m\u001b[43m)\u001b[49m\u001b[38;5;241m.\u001b[39mimages[\u001b[38;5;241m0\u001b[39m]\n\u001b[0;32m    236\u001b[0m     mat \u001b[38;5;241m=\u001b[39m np\u001b[38;5;241m.\u001b[39mfrombuffer(im\u001b[38;5;241m.\u001b[39mdata,dtype\u001b[38;5;241m=\u001b[39mim\u001b[38;5;241m.\u001b[39mdtype)\u001b[38;5;241m.\u001b[39mreshape((im\u001b[38;5;241m.\u001b[39mheight, im\u001b[38;5;241m.\u001b[39mwidth, im\u001b[38;5;241m.\u001b[39mchannels))\n\u001b[0;32m    237\u001b[0m     \u001b[38;5;28;01mreturn\u001b[39;00m mat\n",
      "File \u001b[1;32md:\\Anaconda\\envs\\simulator\\lib\\site-packages\\grpc\\_channel.py:1028\u001b[0m, in \u001b[0;36m_UnaryUnaryMultiCallable.__call__\u001b[1;34m(self, request, timeout, metadata, credentials, wait_for_ready, compression)\u001b[0m\n\u001b[0;32m   1021\u001b[0m \u001b[38;5;28;01mdef\u001b[39;00m \u001b[38;5;21m__call__\u001b[39m(\u001b[38;5;28mself\u001b[39m,\n\u001b[0;32m   1022\u001b[0m              request: Any,\n\u001b[0;32m   1023\u001b[0m              timeout: Optional[\u001b[38;5;28mfloat\u001b[39m] \u001b[38;5;241m=\u001b[39m \u001b[38;5;28;01mNone\u001b[39;00m,\n\u001b[1;32m   (...)\u001b[0m\n\u001b[0;32m   1026\u001b[0m              wait_for_ready: Optional[\u001b[38;5;28mbool\u001b[39m] \u001b[38;5;241m=\u001b[39m \u001b[38;5;28;01mNone\u001b[39;00m,\n\u001b[0;32m   1027\u001b[0m              compression: Optional[grpc\u001b[38;5;241m.\u001b[39mCompression] \u001b[38;5;241m=\u001b[39m \u001b[38;5;28;01mNone\u001b[39;00m) \u001b[38;5;241m-\u001b[39m\u001b[38;5;241m>\u001b[39m Any:\n\u001b[1;32m-> 1028\u001b[0m     state, call, \u001b[38;5;241m=\u001b[39m \u001b[38;5;28;43mself\u001b[39;49m\u001b[38;5;241;43m.\u001b[39;49m\u001b[43m_blocking\u001b[49m\u001b[43m(\u001b[49m\u001b[43mrequest\u001b[49m\u001b[43m,\u001b[49m\u001b[43m \u001b[49m\u001b[43mtimeout\u001b[49m\u001b[43m,\u001b[49m\u001b[43m \u001b[49m\u001b[43mmetadata\u001b[49m\u001b[43m,\u001b[49m\u001b[43m \u001b[49m\u001b[43mcredentials\u001b[49m\u001b[43m,\u001b[49m\n\u001b[0;32m   1029\u001b[0m \u001b[43m                                  \u001b[49m\u001b[43mwait_for_ready\u001b[49m\u001b[43m,\u001b[49m\u001b[43m \u001b[49m\u001b[43mcompression\u001b[49m\u001b[43m)\u001b[49m\n\u001b[0;32m   1030\u001b[0m     \u001b[38;5;28;01mreturn\u001b[39;00m _end_unary_response_blocking(state, call, \u001b[38;5;28;01mFalse\u001b[39;00m, \u001b[38;5;28;01mNone\u001b[39;00m)\n",
      "File \u001b[1;32md:\\Anaconda\\envs\\simulator\\lib\\site-packages\\grpc\\_channel.py:1017\u001b[0m, in \u001b[0;36m_UnaryUnaryMultiCallable._blocking\u001b[1;34m(self, request, timeout, metadata, credentials, wait_for_ready, compression)\u001b[0m\n\u001b[0;32m   1009\u001b[0m \u001b[38;5;28;01melse\u001b[39;00m:\n\u001b[0;32m   1010\u001b[0m     call \u001b[38;5;241m=\u001b[39m \u001b[38;5;28mself\u001b[39m\u001b[38;5;241m.\u001b[39m_channel\u001b[38;5;241m.\u001b[39msegregated_call(\n\u001b[0;32m   1011\u001b[0m         cygrpc\u001b[38;5;241m.\u001b[39mPropagationConstants\u001b[38;5;241m.\u001b[39mGRPC_PROPAGATE_DEFAULTS,\n\u001b[0;32m   1012\u001b[0m         \u001b[38;5;28mself\u001b[39m\u001b[38;5;241m.\u001b[39m_method, \u001b[38;5;28;01mNone\u001b[39;00m, _determine_deadline(deadline), metadata,\n\u001b[1;32m   (...)\u001b[0m\n\u001b[0;32m   1015\u001b[0m             \u001b[38;5;28;01mNone\u001b[39;00m,\n\u001b[0;32m   1016\u001b[0m         ),), \u001b[38;5;28mself\u001b[39m\u001b[38;5;241m.\u001b[39m_context)\n\u001b[1;32m-> 1017\u001b[0m     event \u001b[38;5;241m=\u001b[39m \u001b[43mcall\u001b[49m\u001b[38;5;241;43m.\u001b[39;49m\u001b[43mnext_event\u001b[49m\u001b[43m(\u001b[49m\u001b[43m)\u001b[49m\n\u001b[0;32m   1018\u001b[0m     _handle_event(event, state, \u001b[38;5;28mself\u001b[39m\u001b[38;5;241m.\u001b[39m_response_deserializer)\n\u001b[0;32m   1019\u001b[0m     \u001b[38;5;28;01mreturn\u001b[39;00m state, call\n",
      "File \u001b[1;32msrc\\python\\grpcio\\grpc\\_cython\\_cygrpc/channel.pyx.pxi:338\u001b[0m, in \u001b[0;36mgrpc._cython.cygrpc.SegregatedCall.next_event\u001b[1;34m()\u001b[0m\n",
      "File \u001b[1;32msrc\\python\\grpcio\\grpc\\_cython\\_cygrpc/channel.pyx.pxi:169\u001b[0m, in \u001b[0;36mgrpc._cython.cygrpc._next_call_event\u001b[1;34m()\u001b[0m\n",
      "File \u001b[1;32msrc\\python\\grpcio\\grpc\\_cython\\_cygrpc/channel.pyx.pxi:163\u001b[0m, in \u001b[0;36mgrpc._cython.cygrpc._next_call_event\u001b[1;34m()\u001b[0m\n",
      "File \u001b[1;32msrc\\python\\grpcio\\grpc\\_cython\\_cygrpc/completion_queue.pyx.pxi:78\u001b[0m, in \u001b[0;36mgrpc._cython.cygrpc._latent_event\u001b[1;34m()\u001b[0m\n",
      "File \u001b[1;32msrc\\python\\grpcio\\grpc\\_cython\\_cygrpc/completion_queue.pyx.pxi:62\u001b[0m, in \u001b[0;36mgrpc._cython.cygrpc._internal_latent_event\u001b[1;34m()\u001b[0m\n",
      "File \u001b[1;32msrc\\python\\grpcio\\grpc\\_cython\\_cygrpc/completion_queue.pyx.pxi:58\u001b[0m, in \u001b[0;36mgrpc._cython.cygrpc._interpret_event\u001b[1;34m()\u001b[0m\n",
      "File \u001b[1;32msrc\\python\\grpcio\\grpc\\_cython\\_cygrpc/tag.pyx.pxi:71\u001b[0m, in \u001b[0;36mgrpc._cython.cygrpc._BatchOperationTag.event\u001b[1;34m()\u001b[0m\n",
      "File \u001b[1;32msrc\\python\\grpcio\\grpc\\_cython\\_cygrpc/operation.pyx.pxi:138\u001b[0m, in \u001b[0;36mgrpc._cython.cygrpc.ReceiveInitialMetadataOperation.un_c\u001b[1;34m()\u001b[0m\n",
      "File \u001b[1;32msrc\\python\\grpcio\\grpc\\_cython\\_cygrpc/metadata.pyx.pxi:69\u001b[0m, in \u001b[0;36mgrpc._cython.cygrpc._metadata\u001b[1;34m()\u001b[0m\n",
      "File \u001b[1;32msrc\\python\\grpcio\\grpc\\_cython\\_cygrpc/metadata.pyx.pxi:70\u001b[0m, in \u001b[0;36mgenexpr\u001b[1;34m()\u001b[0m\n",
      "File \u001b[1;32msrc\\python\\grpcio\\grpc\\_cython\\_cygrpc/metadata.pyx.pxi:64\u001b[0m, in \u001b[0;36mgrpc._cython.cygrpc._metadatum\u001b[1;34m()\u001b[0m\n",
      "File \u001b[1;32m<string>:1\u001b[0m, in \u001b[0;36m__new__\u001b[1;34m(_cls, key, value)\u001b[0m\n",
      "\u001b[1;31mKeyboardInterrupt\u001b[0m: "
     ]
    }
   ],
   "source": [
    "#!/usr/bin/env python3\n",
    "# -*- encoding: utf-8 -*-\n",
    "import sys\n",
    "import time\n",
    "import json\n",
    "\n",
    "sys.path.append('./')\n",
    "sys.path.append('../')\n",
    "from src.Env.simUtils import *\n",
    "import matplotlib.pyplot as plt\n",
    "# from moviepy.editor import ImageSequenceClip, ImageClip, concatenate_videoclips\n",
    "\n",
    "import grpc\n",
    "\n",
    "print('数据生成脚本启动')\n",
    "\n",
    "host = '127.0.0.1:30001'\n",
    "scene_num = 1\n",
    "map_id = 2\n",
    "server = SimServer(host, scene_num=scene_num, map_id=map_id)\n",
    "\n",
    "sim = Sim(host, scene_id=0)\n",
    "\n",
    "import pickle\n",
    "\n",
    "\n",
    "import os\n",
    "\n",
    "output_path = '/data2/liangxiwen/zkd/datasets/dataGen/DATA/1_objs'\n",
    "data_info=\"使用中指判断位置\"\n",
    "meta_data_path = output_path + os.sep + 'meta_data.json'\n",
    "n_objs = 1\n",
    "handSide = 'Right'\n",
    "can_list = [12, 14, 16, 17, 18]\n",
    "\n",
    "from copy import deepcopy\n",
    "import numpy as np\n",
    "import matplotlib.pyplot as plt\n",
    "from PIL import Image\n",
    "import random\n",
    "\n",
    "random.seed(42)\n",
    "\n",
    "\n",
    "def Resize(mat):\n",
    "    mat = Image.fromarray(mat, mode='RGB')\n",
    "    mat = mat.resize((224, 224))\n",
    "    mat = np.array(mat)\n",
    "    mat = 1.0 * mat\n",
    "    mat = mat / 255.0\n",
    "    return mat\n",
    "\n",
    "\n",
    "from tqdm import tqdm\n",
    "collected_num=0\n",
    "for epoch in range(1):\n",
    "    print('Epoch:', epoch)\n",
    "    offline_data = dict()\n",
    "    for index in tqdm(range(1000)):\n",
    "        sim.reset()\n",
    "        sim.bow_head()\n",
    "        time.sleep(1)\n",
    "        sim.grasp('release',handSide=handSide)\n",
    "        time.sleep(1)\n",
    "        sim.removeObjects('all')\n",
    "        objs = sim.getObjsInfo()\n",
    "        scene = sim.removeObjects([0])\n",
    "        desk_height = 98 # 固定桌子高度\n",
    "        desk_id = 1\n",
    "        sim.addDesk(desk_id, h=desk_height)\n",
    "        obj_id = random.choice(can_list)\n",
    "        other_obj_ids = random.choices([x for x in sim.objs.ID.values if x != obj_id], k=n_objs - 1)\n",
    "        ids = [obj_id] + other_obj_ids\n",
    "        objList = sim.genObjs(n=n_objs, ids=ids, h=sim.desk_height, handSide = handSide)\n",
    "        target_origin_loc = sim.getObjsInfo()[1]['location']\n",
    "        obj_id = objList[0][0]\n",
    "        target_obj = sim.objs[sim.objs.ID == obj_id].Name.values[0]\n",
    "        sx, sy = sim.getObservation().location.X, sim.getObservation().location.Y\n",
    "\n",
    "        x = np.random.uniform(-10, 10)\n",
    "        y = np.random.uniform(-10,10)\n",
    "        z = np.random.uniform(-2,5)\n",
    "        sim.moveHand(x,y,z,handSide=handSide, method='diff', keep_rpy=(0, 0, 0))\n",
    "\n",
    "        ox, oy, oz = sim.getSensorsData(handSide=handSide)[0]\n",
    "        offline_data['trajectory'] = []\n",
    "        last_action = (ox-sx, oy-sy, oz)\n",
    "        last_img = Resize(sim.getImage())\n",
    "        last_state = sim.getState()\n",
    "        for action in sim.closeTargetObj(obj_id=1,handSide=handSide,return_action=True):\n",
    "            # sim.bow_head()\n",
    "            each_frame = {}\n",
    "            each_frame['img'] = last_img\n",
    "            each_frame['state'] = last_state\n",
    "            each_frame['action'] = (*action, 0)\n",
    "            time.sleep(0.05)\n",
    "            last_img = Resize(sim.getImage())\n",
    "            last_state = sim.getState()\n",
    "            each_frame['after_state'] = last_state\n",
    "            offline_data['trajectory'].append(each_frame)\n",
    "\n",
    "        loc1 = sim.findObj(name=target_obj)['location']\n",
    "        loc2 = sim.getSensorsData(handSide=handSide)[0]\n",
    "\n",
    "        # 抓取\n",
    "        each_frame = {}\n",
    "        mat = sim.getImage()\n",
    "        mat = Resize(mat)\n",
    "        each_frame['img'] = mat\n",
    "        each_frame['state'] = sim.getState()\n",
    "        before_grasp_img = sim.getImage()\n",
    "        sim.grasp(handSide=handSide)\n",
    "        grasp_img = sim.getImage()\n",
    "        each_frame['action'] = (0, 0, 0, 0, 0, 0, 1)\n",
    "        each_frame['after_state'] = sim.getState()\n",
    "        offline_data['trajectory'].append(each_frame)\n",
    "\n",
    "        last_img = sim.getImage()\n",
    "        last_state = sim.getState()\n",
    "        for action in sim.moveHandReturnAction(0, 0, 15, gap=1.5, method='diff',handSide=handSide):\n",
    "            # sim.bow_head()\n",
    "            each_frame = {}\n",
    "            each_frame['img'] = Resize(last_img)\n",
    "            each_frame['state'] = last_state\n",
    "            if handSide=='Right':\n",
    "                each_frame['action'] = (0, 0, 0, 0, 0, 1, 1)\n",
    "            else:\n",
    "                each_frame['action'] = (0, 0, 1, 0, 0, 0, 1)\n",
    "            state = sim.getState()\n",
    "            each_frame['after_state'] = state\n",
    "            offline_data['trajectory'].append(each_frame)\n",
    "            last_img = sim.getImage()\n",
    "            last_state = state\n",
    "\n",
    "        target_now_loc = sim.getObjsInfo()[1]['location']\n",
    "        if target_now_loc[2] - target_origin_loc[2] > 10:\n",
    "            collected_num += 1\n",
    "            is_success = True\n",
    "            print(f'Success have collected {collected_num} datas')\n",
    "        else:\n",
    "            is_success = False\n",
    "            print('fail data:', index, desk_id, obj_id, objList)\n"
   ]
  },
  {
   "cell_type": "code",
   "execution_count": 4,
   "metadata": {},
   "outputs": [
    {
     "data": {
      "text/plain": [
       "[[14, -37.90336693106591, -4.751623455940539, 99, 0, 0, 0, 0.9, 0.9, 0.9]]"
      ]
     },
     "execution_count": 4,
     "metadata": {},
     "output_type": "execute_result"
    }
   ],
   "source": [
    "sim.genObjs(n=1,ids=14,h=sim.desk_height,handSide='Right')"
   ]
  },
  {
   "cell_type": "code",
   "execution_count": 3,
   "metadata": {},
   "outputs": [
    {
     "data": {
      "text/plain": [
       "False"
      ]
     },
     "execution_count": 3,
     "metadata": {},
     "output_type": "execute_result"
    }
   ],
   "source": [
    "(sim.objs.ID==0).any()"
   ]
  },
  {
   "cell_type": "code",
   "execution_count": 1,
   "metadata": {},
   "outputs": [],
   "source": [
    "joints=[1.8061175069306046e-05,-98.61856842041016,4.662295341491699,-1.788636326789856,-1.789079189300537,-1.7891252040863037,\n",
    "                        -1.7886359691619873,-1.7890788316726685,-1.7891250848770142,-1.7886145114898682,-1.789078712463379,-1.7891266345977783,\n",
    "                        -1.7886520624160767,-1.78908371925354,-1.7891193628311157,-52.2512092590332,21.009044647216797,-2.2276458740234375,\n",
    "                        -2.230302333831787,30.00031089782715,6.811821460723877,22.398529052734375,-0.8751718401908875,0.14142996072769165,\n",
    "                        -0.007084177806973457,35.264503479003906,-0.0020231136586517096,5.13994054927025e-05,-100.19393157958984,-4.168997287750244,\n",
    "                        -2.1731982231140137,-2.1735899448394775,-2.173584222793579,-2.1731984615325928,-2.1735899448394775,-2.173584461212158,\n",
    "                        -2.173130512237549,-2.1735763549804688,-2.173611640930176,-2.1731984615325928,-2.1735899448394775,-2.173584461212158,\n",
    "                        -51.53587341308594,-21.0319881439209,-1.1483358144760132,-1.1480298042297363,30.00035858154297,-5.126368522644043,-25.800668716430664]"
   ]
  },
  {
   "cell_type": "code",
   "execution_count": null,
   "metadata": {},
   "outputs": [],
   "source": [
    "joints [16.78989792 36.76516342 40.62049866  4.92565489 20.03301239]"
   ]
  },
  {
   "cell_type": "code",
   "execution_count": 70,
   "metadata": {},
   "outputs": [],
   "source": [
    "import numpy as np\n",
    "loaded_array = np.load(r'D:\\Deon\\Project\\robotic_manipulation\\tmp\\0172_True_NFCJuice.pkl.npy')\n"
   ]
  },
  {
   "cell_type": "code",
   "execution_count": 68,
   "metadata": {},
   "outputs": [
    {
     "data": {
      "text/plain": [
       "array([22.95454979, 36.06108093, 42.06237793,  8.74307919, 23.1450386 ])"
      ]
     },
     "execution_count": 68,
     "metadata": {},
     "output_type": "execute_result"
    }
   ],
   "source": [
    "loaded_array[-1][[-4,-10,-9,-8,-7]]"
   ]
  },
  {
   "cell_type": "code",
   "execution_count": 39,
   "metadata": {},
   "outputs": [],
   "source": [
    "sim.EnableEndPointCtrl(False)"
   ]
  },
  {
   "cell_type": "code",
   "execution_count": null,
   "metadata": {},
   "outputs": [],
   "source": []
  },
  {
   "cell_type": "code",
   "execution_count": 72,
   "metadata": {},
   "outputs": [
    {
     "data": {
      "text/plain": []
     },
     "execution_count": 72,
     "metadata": {},
     "output_type": "execute_result"
    }
   ],
   "source": [
    "data=loaded_array[-1][:]\n",
    "data[-4]=3.86\n",
    "data[[-10,-9,-8,-7]]=2.58\n",
    "sim.changeJoints(data)"
   ]
  },
  {
   "cell_type": "code",
   "execution_count": 80,
   "metadata": {},
   "outputs": [
    {
     "data": {
      "text/plain": [
       "['joint_knee',\n",
       " 'joint_left_elbow_pitch',\n",
       " 'joint_left_elbow_yaw',\n",
       " 'joint_left_index1',\n",
       " 'joint_left_index2',\n",
       " 'joint_left_index3',\n",
       " 'joint_left_middle1',\n",
       " 'joint_left_middle2',\n",
       " 'joint_left_middle3',\n",
       " 'joint_left_pinky1',\n",
       " 'joint_left_pinky2',\n",
       " 'joint_left_pinky3',\n",
       " 'joint_left_ring1',\n",
       " 'joint_left_ring2',\n",
       " 'joint_left_ring3',\n",
       " 'joint_left_shoulder_pitch',\n",
       " 'joint_left_shoulder_roll',\n",
       " 'joint_left_thumb1',\n",
       " 'joint_left_thumb2',\n",
       " 'joint_left_wrist_pitch',\n",
       " 'joint_left_wrist_roll',\n",
       " 'joint_left_wrist_yaw',\n",
       " 'joint_lumbar_pitch',\n",
       " 'joint_lumbar_roll',\n",
       " 'joint_lumbar_yaw',\n",
       " 'joint_neck_pitch',\n",
       " 'joint_neck_roll',\n",
       " 'joint_neck_yaw',\n",
       " 'joint_right_elbow_pitch',\n",
       " 'joint_right_elbow_yaw',\n",
       " 'joint_right_index1',\n",
       " 'joint_right_index2',\n",
       " 'joint_right_index3',\n",
       " 'joint_right_middle1',\n",
       " 'joint_right_middle2',\n",
       " 'joint_right_middle3',\n",
       " 'joint_right_pinky1',\n",
       " 'joint_right_pinky2',\n",
       " 'joint_right_pinky3',\n",
       " 'joint_right_ring1',\n",
       " 'joint_right_ring2',\n",
       " 'joint_right_ring3',\n",
       " 'joint_right_shoulder_pitch',\n",
       " 'joint_right_shoulder_roll',\n",
       " 'joint_right_thumb1',\n",
       " 'joint_right_thumb2',\n",
       " 'joint_right_wrist_pitch',\n",
       " 'joint_right_wrist_roll',\n",
       " 'joint_right_wrist_yaw']"
      ]
     },
     "execution_count": 80,
     "metadata": {},
     "output_type": "execute_result"
    }
   ],
   "source": [
    "sim.getJoints('name')"
   ]
  },
  {
   "cell_type": "code",
   "execution_count": 81,
   "metadata": {},
   "outputs": [
    {
     "data": {
      "text/plain": [
       "array([3.86, 2.58, 2.58, 2.58, 2.58])"
      ]
     },
     "execution_count": 81,
     "metadata": {},
     "output_type": "execute_result"
    }
   ],
   "source": [
    "loaded_array[-1][[-4,-10,-9,-8,-7]]"
   ]
  },
  {
   "cell_type": "code",
   "execution_count": 82,
   "metadata": {},
   "outputs": [
    {
     "data": {
      "text/plain": []
     },
     "execution_count": 82,
     "metadata": {},
     "output_type": "execute_result"
    }
   ],
   "source": [
    "sim.changeJoints(loaded_array[-1])"
   ]
  },
  {
   "cell_type": "code",
   "execution_count": 74,
   "metadata": {},
   "outputs": [
    {
     "data": {
      "text/plain": [
       "array([4.77578068, 2.27311063, 2.27873397, 2.24340868, 2.26003575])"
      ]
     },
     "execution_count": 74,
     "metadata": {},
     "output_type": "execute_result"
    }
   ],
   "source": [
    "np.array(sim.getActuators())[[-4,-10,-9,-8,-7]]"
   ]
  },
  {
   "cell_type": "code",
   "execution_count": 40,
   "metadata": {},
   "outputs": [],
   "source": [
    "for data in loaded_array:\n",
    "    sim.changeJoints(data)\n",
    "    time.sleep(0.2)\n",
    "    # print(data[[-4,-10,-9,-8,-7]])"
   ]
  },
  {
   "cell_type": "code",
   "execution_count": 60,
   "metadata": {},
   "outputs": [
    {
     "data": {
      "text/plain": []
     },
     "execution_count": 60,
     "metadata": {},
     "output_type": "execute_result"
    }
   ],
   "source": [
    "data[[-4,-10,-9,-8,-7]]=4\n",
    "sim.changeJoints(data)"
   ]
  },
  {
   "cell_type": "code",
   "execution_count": 61,
   "metadata": {},
   "outputs": [
    {
     "data": {
      "text/plain": [
       "array([3.17901635, 2.05018806, 2.05136538, 2.04547381, 2.04775929])"
      ]
     },
     "execution_count": 61,
     "metadata": {},
     "output_type": "execute_result"
    }
   ],
   "source": [
    "np.array(sim.getActuators())[[-4,-10,-9,-8,-7]]"
   ]
  },
  {
   "cell_type": "code",
   "execution_count": 27,
   "metadata": {},
   "outputs": [
    {
     "data": {
      "text/plain": []
     },
     "execution_count": 27,
     "metadata": {},
     "output_type": "execute_result"
    }
   ],
   "source": [
    "sim.changeJoints(sim.getActuators())"
   ]
  },
  {
   "cell_type": "code",
   "execution_count": 29,
   "metadata": {},
   "outputs": [
    {
     "data": {
      "text/plain": [
       "array([22.9348278 , 16.51228714, 19.19421959,  4.30069923, 10.73864746])"
      ]
     },
     "execution_count": 29,
     "metadata": {},
     "output_type": "execute_result"
    }
   ],
   "source": [
    "np.array(sim.getActuators())[[-4,-10,-9,-8,-7]]"
   ]
  },
  {
   "cell_type": "code",
   "execution_count": 34,
   "metadata": {},
   "outputs": [
    {
     "data": {
      "text/plain": [
       "array([[22.93483353, 16.12371254, 18.80642128,  3.91173148, 10.34875488]])"
      ]
     },
     "execution_count": 34,
     "metadata": {},
     "output_type": "execute_result"
    }
   ],
   "source": [
    "np.array(sim.getActuators())[[[-4,-10,-9,-8,-7]]]"
   ]
  },
  {
   "cell_type": "code",
   "execution_count": 65,
   "metadata": {},
   "outputs": [],
   "source": [
    "acts = sim.getActuatorRanges()\n",
    "names=[]\n",
    "for act in acts:\n",
    "    names.append(act['name'])"
   ]
  },
  {
   "cell_type": "code",
   "execution_count": 114,
   "metadata": {},
   "outputs": [],
   "source": [
    "import pickle\n",
    "with open('../../tmp/trajectory.pkl','rb') as f:\n",
    "    data = pickle.load(f)"
   ]
  },
  {
   "cell_type": "code",
   "execution_count": 117,
   "metadata": {},
   "outputs": [
    {
     "name": "stdout",
     "output_type": "stream",
     "text": [
      "[  0.08929926   0.2913778   -1.498201     0.08929926   0.2913778\n",
      "  -1.498201   -11.434574  ]\n",
      "[  0.0152624   0.31906    -1.501541    0.0152624   0.31906    -1.501541\n",
      " -11.430191 ]\n",
      "[  0.0152506   0.3205973  -1.4966933   0.0152506   0.3205973  -1.4966933\n",
      " -11.445543 ]\n",
      "[  0.07973564   0.43926048  -1.4980642    0.07973564   0.43926048\n",
      "  -1.4980642  -11.477306  ]\n",
      "[ -0.02264699   0.5446808   -1.5046234   -0.02264699   0.5446808\n",
      "  -1.5046234  -11.47056   ]\n",
      "[ -0.03282278   0.6122894   -1.4996129   -0.03282278   0.6122894\n",
      "  -1.4996129  -11.429084  ]\n",
      "[ 3.6843754e-03  7.5775707e-01 -1.5007132e+00  3.6843754e-03\n",
      "  7.5775707e-01 -1.5007132e+00 -1.1436306e+01]\n",
      "[  0.15051174   0.61618197  -1.492411     0.15051174   0.61618197\n",
      "  -1.492411   -11.454225  ]\n",
      "[  0.3219349   0.5590512  -1.4996198   0.3219349   0.5590512  -1.4996198\n",
      " -11.4496765]\n",
      "[  0.28420648   0.8405931   -1.4853522    0.28420648   0.8405931\n",
      "  -1.4853522  -11.441597  ]\n",
      "[  0.11627597   0.82873356  -1.494217     0.11627597   0.82873356\n",
      "  -1.494217   -11.431298  ]\n",
      "[  0.4435551   0.7637632  -1.506128    0.4435551   0.7637632  -1.506128\n",
      " -11.362418 ]\n",
      "[  0.24033752   0.4772062   -1.5188576    0.24033752   0.4772062\n",
      "  -1.5188576  -11.309032  ]\n",
      "[  0.07180807   0.7448979   -1.5430089    0.07180807   0.7448979\n",
      "  -1.5430089  -11.1149025 ]\n",
      "[  0.43921962   0.6394557   -1.490481     0.43921962   0.6394557\n",
      "  -1.490481   -11.201532  ]\n",
      "[-0.26520538  0.88232744 -1.1598748  -0.26520538  0.88232744 -1.1598748\n",
      " -9.259525  ]\n",
      "[-0.79245335  0.7575889  -0.6036889  -0.79245335  0.7575889  -0.6036889\n",
      " -3.6941862 ]\n",
      "[ -1.4999378    1.1362829   -0.52036315  -1.4999378    1.1362829\n",
      "  -0.52036315 -10.383699  ]\n",
      "[ -1.5292606   1.0807008  -0.6709639  -1.5292606   1.0807008  -0.6709639\n",
      " -10.460521 ]\n",
      "[-0.78674734  0.73167944 -0.20907834 -0.78674734  0.73167944 -0.20907834\n",
      " -8.912655  ]\n",
      "[-0.3805001   0.2824526  -0.11679447 -0.3805001   0.2824526  -0.11679447\n",
      "  0.69172233]\n",
      "[-0.13740438  0.19630316 -0.05488182 -0.13740438  0.19630316 -0.05488182\n",
      "  1.7039465 ]\n",
      "[-0.02501332 -0.01480941  0.8528754  -0.02501332 -0.01480941  0.8528754\n",
      " 11.143863  ]\n",
      "[-2.1681692e-02 -1.6065761e-03 -4.9311295e-03 -2.1681692e-02\n",
      " -1.6065761e-03 -4.9311295e-03  8.3380661e+00]\n",
      "[-0.14575046  0.10767069 -0.17490223 -0.14575046  0.10767069 -0.17490223\n",
      "  2.3322713 ]\n",
      "[-8.5941516e-03  4.5532361e-03 -1.9652292e-02 -8.5941516e-03\n",
      "  4.5532361e-03 -1.9652292e-02  6.3037324e+00]\n",
      "[-0.09881935  0.08067367 -0.04220103 -0.09881935  0.08067367 -0.04220103\n",
      "  3.7508621 ]\n",
      "[-0.08844808  0.12398815 -0.07475663 -0.08844808  0.12398815 -0.07475663\n",
      "  3.4701371 ]\n",
      "[-0.17520851  0.08126165 -0.09190515 -0.17520851  0.08126165 -0.09190515\n",
      "  2.978887  ]\n",
      "[-4.5564398e-04  2.3675576e-02 -4.5101330e-02 -4.5564398e-04\n",
      "  2.3675576e-02 -4.5101330e-02  6.2994866e+00]\n",
      "[ 4.8486628e-03  2.5340550e-02 -1.9705191e-02  4.8486628e-03\n",
      "  2.5340550e-02 -1.9705191e-02  6.4424086e+00]\n",
      "[-1.07001625e-02  6.46480098e-02  4.96744365e-03 -1.07001625e-02\n",
      "  6.46480098e-02  4.96744365e-03  5.26007414e+00]\n",
      "[-8.484088e-04  9.301104e-03 -8.908525e-03 -8.484088e-04  9.301104e-03\n",
      " -8.908525e-03  6.540564e+00]\n",
      "[-0.0125972   0.07805062 -0.02202966 -0.0125972   0.07805062 -0.02202966\n",
      "  4.7441072 ]\n",
      "[0.01021117 0.01426402 0.01003769 0.01021117 0.01426402 0.01003769\n",
      " 6.310926  ]\n",
      "[0.01352367 0.0226497  0.0096371  0.01352367 0.0226497  0.0096371\n",
      " 6.966137  ]\n",
      "[-4.9118958e-03  9.5598325e-03 -2.1025687e-03 -4.9118958e-03\n",
      "  9.5598325e-03 -2.1025687e-03  7.3481622e+00]\n",
      "[ 0.00753734  0.01546644 -0.01545837  0.00753734  0.01546644 -0.01545837\n",
      "  7.162213  ]\n",
      "[1.5450869e-02 5.5074170e-03 4.4339150e-04 1.5450869e-02 5.5074170e-03\n",
      " 4.4339150e-04 7.1010022e+00]\n",
      "[1.8267039e-02 1.6600393e-02 6.6147819e-03 1.8267039e-02 1.6600393e-02\n",
      " 6.6147819e-03 7.0946717e+00]\n",
      "[ 1.7092381e-02  6.6450387e-03 -1.4749594e-02  1.7092381e-02\n",
      "  6.6450387e-03 -1.4749594e-02  7.2392774e+00]\n",
      "[ 0.01927856  0.03208289 -0.01900445  0.01927856  0.03208289 -0.01900445\n",
      "  6.880802  ]\n",
      "[ 1.2870494e-02  1.6937099e-02 -2.8801709e-04  1.2870494e-02\n",
      "  1.6937099e-02 -2.8801709e-04  7.6051111e+00]\n",
      "[2.5387947e-02 2.3661003e-02 2.2212937e-03 2.5387947e-02 2.3661003e-02\n",
      " 2.2212937e-03 7.4399571e+00]\n",
      "[ 1.0936383e-02  6.3388795e-03 -1.3576582e-02  1.0936383e-02\n",
      "  6.3388795e-03 -1.3576582e-02  7.6585979e+00]\n",
      "[ 0.02707744  0.0447941  -0.02481528  0.02707744  0.0447941  -0.02481528\n",
      "  7.078138  ]\n",
      "[-0.5786958   0.66335803 -0.05780903 -0.5786958   0.66335803 -0.05780903\n",
      " -1.4656309 ]\n",
      "[-0.168304    0.20754361 -0.01164971 -0.168304    0.20754361 -0.01164971\n",
      "  2.517703  ]\n",
      "[-9.1156624e-03  1.7404474e-02 -4.7873482e-03 -9.1156624e-03\n",
      "  1.7404474e-02 -4.7873482e-03  6.4756393e+00]\n",
      "[ 1.6540624e-03  7.4991733e-03 -3.4136325e-03  1.6540624e-03\n",
      "  7.4991733e-03 -3.4136325e-03  8.4541264e+00]\n",
      "[ 9.2335381e-03  1.1244319e-02 -5.4544657e-03  9.2335381e-03\n",
      "  1.1244319e-02 -5.4544657e-03  8.1250744e+00]\n",
      "[ 1.5455399e-02 -6.3271150e-03 -3.0149877e-02  1.5455399e-02\n",
      " -6.3271150e-03 -3.0149877e-02  7.3442450e+00]\n",
      "[-4.802309e-04  5.046548e-02 -2.948168e-02 -4.802309e-04  5.046548e-02\n",
      " -2.948168e-02  5.685161e+00]\n",
      "[-0.01097923  0.01322902 -0.06609213 -0.01097923  0.01322902 -0.06609213\n",
      "  5.7753587 ]\n",
      "[-0.01847192 -0.01645562 -0.05928845 -0.01847192 -0.01645562 -0.05928845\n",
      "  5.7284064 ]\n",
      "[-0.00771877 -0.06990752 -0.08032218 -0.00771877 -0.06990752 -0.08032218\n",
      "  5.182545  ]\n",
      "[ 0.0222646   0.00882    -0.04503212  0.0222646   0.00882    -0.04503212\n",
      "  6.3540115 ]\n",
      "[ 7.2520413e-03  1.2123808e-02 -1.0217942e-02  7.2520413e-03\n",
      "  1.2123808e-02 -1.0217942e-02  8.2227001e+00]\n",
      "[ 0.01174516  0.01312035 -0.0551978   0.01174516  0.01312035 -0.0551978\n",
      "  5.9227524 ]\n",
      "[-0.5369692   0.48929504 -0.10355753 -0.5369692   0.48929504 -0.10355753\n",
      " -2.477342  ]\n",
      "[-0.80314946  0.84942734 -0.07135179 -0.80314946  0.84942734 -0.07135179\n",
      " -5.362971  ]\n",
      "[-3.2001697e-03  9.9463090e-03 -6.8992376e-04 -3.2001697e-03\n",
      "  9.9463090e-03 -6.8992376e-04  8.9555025e+00]\n",
      "[-1.5026119e-02  8.9969411e-03  2.4599805e-03 -1.5026119e-02\n",
      "  8.9969411e-03  2.4599805e-03  8.8795547e+00]\n",
      "[-2.0446535e-02  6.2740818e-03  3.3355504e-04 -2.0446535e-02\n",
      "  6.2740818e-03  3.3355504e-04  8.0667133e+00]\n",
      "[-2.3147698e-02  8.0376342e-03  1.3836548e-02 -2.3147698e-02\n",
      "  8.0376342e-03  1.3836548e-02  8.5557346e+00]\n",
      "[-7.0289336e-03  8.0827251e-03  1.3853386e-03 -7.0289336e-03\n",
      "  8.0827251e-03  1.3853386e-03  8.7953072e+00]\n",
      "[-1.2268748e-02  7.5872466e-03  3.3031404e-04 -1.2268748e-02\n",
      "  7.5872466e-03  3.3031404e-04  9.0108309e+00]\n",
      "[-7.857170e-03  4.426375e-03  6.478876e-04 -7.857170e-03  4.426375e-03\n",
      "  6.478876e-04  8.858911e+00]\n",
      "[-1.4217999e-02  7.0240647e-03  7.6556429e-03 -1.4217999e-02\n",
      "  7.0240647e-03  7.6556429e-03  9.0322533e+00]\n",
      "[-5.7418309e-03  1.7065480e-03 -5.2386373e-03 -5.7418309e-03\n",
      "  1.7065480e-03 -5.2386373e-03  9.1472893e+00]\n",
      "[-6.4093135e-03  3.5728216e-03  9.6420944e-04 -6.4093135e-03\n",
      "  3.5728216e-03  9.6420944e-04  9.1437769e+00]\n",
      "[-3.2318495e-03  2.1989122e-03 -6.4560771e-04 -3.2318495e-03\n",
      "  2.1989122e-03 -6.4560771e-04  8.9155178e+00]\n",
      "[-1.4347222e-02  4.1119754e-05 -5.4483488e-03 -1.4347222e-02\n",
      "  4.1119754e-05 -5.4483488e-03  8.5251408e+00]\n",
      "[-1.0325160e-02  2.4836063e-03 -8.0135912e-03 -1.0325160e-02\n",
      "  2.4836063e-03 -8.0135912e-03  8.9591408e+00]\n",
      "[-2.2918727e-02  7.6249242e-04 -8.5641816e-03 -2.2918727e-02\n",
      "  7.6249242e-04 -8.5641816e-03  9.0474119e+00]\n",
      "[-5.4303072e-03  1.4344454e-03 -6.9819316e-03 -5.4303072e-03\n",
      "  1.4344454e-03 -6.9819316e-03  9.0668716e+00]\n",
      "[-1.1444505e-02 -1.4790520e-03 -7.3689520e-03 -1.1444505e-02\n",
      " -1.4790520e-03 -7.3689520e-03  8.6710186e+00]\n",
      "[-3.2321177e-03  1.7193630e-03 -6.3137785e-03 -3.2321177e-03\n",
      "  1.7193630e-03 -6.3137785e-03  9.1819000e+00]\n",
      "[-7.261511e-03  5.234495e-03 -7.152356e-03 -7.261511e-03  5.234495e-03\n",
      " -7.152356e-03  9.228129e+00]\n",
      "[-4.7138594e-03  6.6903234e-04 -2.3538619e-04 -4.7138594e-03\n",
      "  6.6903234e-04 -2.3538619e-04  8.9219732e+00]\n"
     ]
    }
   ],
   "source": [
    "for frame in data[2]['track']:\n",
    "    print(frame)"
   ]
  },
  {
   "cell_type": "code",
   "execution_count": null,
   "metadata": {},
   "outputs": [],
   "source": []
  }
 ],
 "metadata": {
  "kernelspec": {
   "display_name": "simRT1",
   "language": "python",
   "name": "python3"
  },
  "language_info": {
   "codemirror_mode": {
    "name": "ipython",
    "version": 3
   },
   "file_extension": ".py",
   "mimetype": "text/x-python",
   "name": "python",
   "nbconvert_exporter": "python",
   "pygments_lexer": "ipython3",
   "version": "3.8.16"
  },
  "orig_nbformat": 4
 },
 "nbformat": 4,
 "nbformat_minor": 2
}
