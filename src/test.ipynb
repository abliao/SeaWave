{
 "cells": [
  {
   "cell_type": "code",
   "execution_count": 1,
   "metadata": {},
   "outputs": [],
   "source": [
    "import sys\n",
    "import time\n",
    "from Env.simUtils import *\n",
    "\n",
    "import grpc\n",
    "\n",
    "host = '127.0.0.1:30001'\n",
    "scene_num = 1\n",
    "map_id = 2\n",
    "server = SimServer(host,scene_num = scene_num, map_id = map_id)\n",
    "sim=Sim(host,scene_id=0)"
   ]
  },
  {
   "cell_type": "code",
   "execution_count": 11,
   "metadata": {},
   "outputs": [
    {
     "name": "stdout",
     "output_type": "stream",
     "text": [
      "time_step: 44\n",
      "success\n",
      "success rate:1/1\n",
      "time_step: 47\n",
      "success\n",
      "success rate:2/2\n",
      "time_step: 47\n",
      "success\n",
      "success rate:3/3\n",
      "time_step: 53\n",
      "success\n",
      "success rate:4/4\n",
      "time_step: 46\n",
      "success\n",
      "success rate:5/5\n",
      "time_step: 48\n",
      "success\n",
      "success rate:6/6\n",
      "time_step: 47\n",
      "success\n",
      "success rate:7/7\n",
      "time_step: 46\n",
      "success\n",
      "success rate:8/8\n",
      "time_step: 48\n",
      "success\n",
      "success rate:9/9\n",
      "time_step: 48\n",
      "success\n",
      "success rate:10/10\n",
      "time_step: 42\n",
      "success\n",
      "success rate:11/11\n",
      "time_step: 48\n",
      "success\n",
      "success rate:12/12\n",
      "time_step: 49\n",
      "success\n",
      "success rate:13/13\n",
      "time_step: 47\n",
      "success\n",
      "success rate:14/14\n",
      "time_step: 44\n",
      "success\n",
      "success rate:15/15\n",
      "time_step: 47\n",
      "success\n",
      "success rate:16/16\n",
      "time_step: 53\n",
      "success\n",
      "success rate:17/17\n",
      "time_step: 45\n",
      "success\n",
      "success rate:18/18\n",
      "time_step: 47\n",
      "success\n",
      "success rate:19/19\n",
      "time_step: 46\n",
      "success\n",
      "success rate:20/20\n"
     ]
    }
   ],
   "source": [
    "success_num = 0\n",
    "np.random.seed(42)\n",
    "can_list = sim.can_list\n",
    "for _ in range(100):\n",
    "    sim.reset()\n",
    "    sim.removeObjects()\n",
    "    sim.addDesk(0,h=98)\n",
    "    ids = random.choice(can_list)\n",
    "    sim.genObjs(n=1,ids=ids,h=sim.desk_height,handSide='Right')\n",
    "    handSide='Right'\n",
    "    method='absolute'\n",
    "    obj_id=1\n",
    "    gap=1.5\n",
    "    keep_rpy=(0,0,0)\n",
    "    time_step=0\n",
    "    if handSide=='Right':\n",
    "        target_oringin_loc=sim.getObjsInfo()[1]['location']\n",
    "        obj_loc=np.array(sim.findObj(id=obj_id)['location'])\n",
    "        obj_loc[0]+=4\n",
    "        obj_loc[1]-=6\n",
    "        # obj_loc[2]-=2\n",
    "        for i in range(100):  \n",
    "            time_step+=1\n",
    "            sensor = sim.getSensorsData(handSide='All',type='full')\n",
    "            rthumb = sensor[-1]['data']\n",
    "            rmiddle = np.array(sensor[-10]['data'])\n",
    "            p = max(abs(obj_loc-rmiddle))/gap if max(abs(obj_loc-rmiddle))>gap else 1\n",
    "            vector = (obj_loc-rmiddle)/p\n",
    "            if max(abs(obj_loc[:2]-rmiddle[:2]))<1 and max(abs(obj_loc[2:]-rmiddle[2:]))<2:\n",
    "                break\n",
    "            sim.moveHand(*vector,handSide=handSide,method='diff',gap=gap,keep_rpy=(0,0,0))\n",
    "        \n",
    "        obj_loc=np.array(sim.findObj(id=obj_id)['location'])\n",
    "        obj_loc[0]-=4\n",
    "        obj_loc[1]-=2\n",
    "        # obj_loc[2]-=2\n",
    "        for i in range(100):\n",
    "            time_step+=1\n",
    "            sensor = sim.getSensorsData(handSide='All',type='full')\n",
    "            rthumb = sensor[-1]['data']\n",
    "            rmiddle = np.array(sensor[-10]['data'])\n",
    "            p = max(abs(obj_loc-rmiddle))/gap if max(abs(obj_loc-rmiddle))>gap else 1\n",
    "            vector = (obj_loc-rmiddle)/p\n",
    "            # print('diff',max(abs(obj_loc-rmiddle)),obj_loc,rmiddle,vector)\n",
    "            if max(abs(obj_loc[:2]-rmiddle[:2]))<1 and max(abs(obj_loc[2:]-rmiddle[2:]))<2:\n",
    "                break\n",
    "            sim.moveHand(*vector,handSide=handSide,method='diff',gap=gap,keep_rpy=(0,0,0))\n",
    "        sim.grasp()\n",
    "        sim.moveHand(0,0,10)\n",
    "        target_now_loc=sim.getObjsInfo()[1]['location']\n",
    "        print('time_step:',time_step)\n",
    "        if target_now_loc[2]-target_oringin_loc[2]>5:\n",
    "            print('success')\n",
    "            success_num+=1\n",
    "        print(f'success rate:{success_num}/{_+1}')\n",
    "    elif handSide=='Left':\n",
    "        target_oringin_loc=sim.getObjsInfo()[1]['location']\n",
    "        obj_loc=np.array(sim.findObj(id=obj_id)['location'])\n",
    "        obj_loc[0]+=4\n",
    "        obj_loc[1]+=6\n",
    "        for i in range(100):  \n",
    "            time_step+=1\n",
    "            sensor = sim.getSensorsData(handSide='All',type='full')\n",
    "            rthumb = sensor[-1]['data']\n",
    "            rmiddle = np.array(sensor[-10]['data'])\n",
    "            p = max(abs(obj_loc-rmiddle))/gap if max(abs(obj_loc-rmiddle))>gap else 1\n",
    "            vector = (obj_loc-rmiddle)/p\n",
    "            if max(abs(obj_loc[:2]-rmiddle[:2]))<1 and max(abs(obj_loc[2:]-rmiddle[2:]))<2:\n",
    "                break\n",
    "            sim.moveHand(*vector,handSide=handSide,method='diff',gap=gap,keep_rpy=(0,0,0))\n",
    "        \n",
    "        obj_loc=np.array(sim.findObj(id=obj_id)['location'])\n",
    "        obj_loc[0]-=4\n",
    "        obj_loc[1]+=2\n",
    "        for i in range(100):\n",
    "            time_step+=1\n",
    "            sensor = sim.getSensorsData(handSide='All',type='full')\n",
    "            rthumb = sensor[-1]['data']\n",
    "            rmiddle = np.array(sensor[-10]['data'])\n",
    "            p = max(abs(obj_loc-rmiddle))/gap if max(abs(obj_loc-rmiddle))>gap else 1\n",
    "            vector = (obj_loc-rmiddle)/p\n",
    "            # print('diff',max(abs(obj_loc-rmiddle)),obj_loc,rmiddle,vector)\n",
    "            if max(abs(obj_loc[:2]-rmiddle[:2]))<1 and max(abs(obj_loc[2:]-rmiddle[2:]))<2:\n",
    "                break\n",
    "            sim.moveHand(*vector,handSide=handSide,method='diff',gap=gap,keep_rpy=(0,0,0))\n",
    "        sim.grasp()\n",
    "        sim.moveHand(0,0,10)\n",
    "        target_now_loc=sim.getObjsInfo()[1]['location']\n",
    "        print('time_step:',time_step)\n",
    "        if target_now_loc[2]-target_oringin_loc[2]>5:\n",
    "            print('success')\n",
    "            success_num+=1\n",
    "        print(f'success rate:{success_num}/{_+1}')"
   ]
  },
  {
   "cell_type": "code",
   "execution_count": 2,
   "metadata": {},
   "outputs": [],
   "source": [
    "sim.addDesk(0,h=98)"
   ]
  },
  {
   "cell_type": "code",
   "execution_count": 4,
   "metadata": {},
   "outputs": [
    {
     "data": {
      "text/plain": [
       "[[14, -37.90336693106591, -4.751623455940539, 99, 0, 0, 0, 0.9, 0.9, 0.9]]"
      ]
     },
     "execution_count": 4,
     "metadata": {},
     "output_type": "execute_result"
    }
   ],
   "source": [
    "sim.genObjs(n=1,ids=14,h=sim.desk_height,handSide='Right')"
   ]
  },
  {
   "cell_type": "code",
   "execution_count": 3,
   "metadata": {},
   "outputs": [
    {
     "data": {
      "text/plain": [
       "False"
      ]
     },
     "execution_count": 3,
     "metadata": {},
     "output_type": "execute_result"
    }
   ],
   "source": [
    "(sim.objs.ID==0).any()"
   ]
  },
  {
   "cell_type": "code",
   "execution_count": null,
   "metadata": {},
   "outputs": [],
   "source": []
  }
 ],
 "metadata": {
  "kernelspec": {
   "display_name": "simRT1",
   "language": "python",
   "name": "python3"
  },
  "language_info": {
   "codemirror_mode": {
    "name": "ipython",
    "version": 3
   },
   "file_extension": ".py",
   "mimetype": "text/x-python",
   "name": "python",
   "nbconvert_exporter": "python",
   "pygments_lexer": "ipython3",
   "version": "3.8.16"
  },
  "orig_nbformat": 4
 },
 "nbformat": 4,
 "nbformat_minor": 2
}
